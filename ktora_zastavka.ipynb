{
 "cells": [
  {
   "cell_type": "code",
   "execution_count": 113,
   "metadata": {
    "collapsed": true
   },
   "outputs": [],
   "source": [
    "from selenium import webdriver\n",
    "from selenium.webdriver.common.keys import Keys\n",
    "from bs4 import BeautifulSoup\n",
    "import time\n",
    "from selenium.webdriver.firefox.options import Options\n",
    "import pandas as pd\n",
    "import datetime"
   ]
  },
  {
   "cell_type": "code",
   "execution_count": 114,
   "metadata": {
    "collapsed": true
   },
   "outputs": [],
   "source": [
    "now = datetime.datetime.now()\n",
    "now_mas = now + datetime.timedelta(hours=2, minutes = 11)\n",
    "now_mas = now_mas.strftime('%H:%M')"
   ]
  },
  {
   "cell_type": "code",
   "execution_count": 115,
   "metadata": {},
   "outputs": [],
   "source": [
    "now_bil = now + datetime.timedelta(hours=2, minutes = 9)\n",
    "now_bil = now_bil.strftime('%H:%M')"
   ]
  },
  {
   "cell_type": "code",
   "execution_count": 116,
   "metadata": {
    "collapsed": true
   },
   "outputs": [],
   "source": [
    "def get_query(when, departure, arrival):\n",
    "    options = Options()\n",
    "    options.add_argument(\"--headless\")\n",
    "    driver = webdriver.Firefox(firefox_options=options, executable_path=\"/home/admin/Downloads/geckodriver-v0.22.0-linux64/geckodriver\")\n",
    "    driver.get(\"http://spojeni.dpp.cz/\")\n",
    "    inputElement = driver.find_element_by_id(\"ctlFrom_txtObject\")\n",
    "    inputElement.send_keys(departure)\n",
    "    inputElement = driver.find_element_by_id(\"ctlTo_txtObject\")\n",
    "    inputElement.send_keys(arrival)\n",
    "    driver.find_element_by_id(\"txtTime\").clear()\n",
    "    driver.find_element_by_id(\"txtTime\").send_keys(when)\n",
    "    driver.find_element_by_xpath(\"//input[@id='optChangesDirect']\").click()\n",
    "    inputElement.send_keys(Keys.ENTER)\n",
    "    time.sleep(5)\n",
    "    soup = BeautifulSoup(driver.page_source, \"html.parser\")\n",
    "    spans = soup.find_all('span', {'class' : 'date'})\n",
    "    casy = [pd.to_datetime(span.get_text()) for span in spans]\n",
    "    driver.quit()\n",
    "    return casy[0]"
   ]
  },
  {
   "cell_type": "code",
   "execution_count": 117,
   "metadata": {
    "collapsed": true
   },
   "outputs": [],
   "source": [
    "departure = 'Masarykovo nádraží'\n",
    "arrival = 'Letenské náměstí'"
   ]
  },
  {
   "cell_type": "code",
   "execution_count": 118,
   "metadata": {},
   "outputs": [
    {
     "name": "stderr",
     "output_type": "stream",
     "text": [
      "/home/admin/anaconda3/lib/python3.6/site-packages/ipykernel_launcher.py:4: DeprecationWarning: use options instead of firefox_options\n",
      "  after removing the cwd from sys.path.\n"
     ]
    }
   ],
   "source": [
    "mas = get_query(now_mas, departure, arrival)"
   ]
  },
  {
   "cell_type": "code",
   "execution_count": 119,
   "metadata": {},
   "outputs": [],
   "source": [
    "departure = 'Bílá labuť'"
   ]
  },
  {
   "cell_type": "code",
   "execution_count": 120,
   "metadata": {},
   "outputs": [
    {
     "name": "stderr",
     "output_type": "stream",
     "text": [
      "/home/admin/anaconda3/lib/python3.6/site-packages/ipykernel_launcher.py:4: DeprecationWarning: use options instead of firefox_options\n",
      "  after removing the cwd from sys.path.\n"
     ]
    }
   ],
   "source": [
    "bil = get_query(now_bil, departure, arrival)"
   ]
  },
  {
   "cell_type": "code",
   "execution_count": 121,
   "metadata": {},
   "outputs": [
    {
     "name": "stdout",
     "output_type": "stream",
     "text": [
      "Chod na Bielu labut: 11:26\n"
     ]
    }
   ],
   "source": [
    "if mas <  bil:\n",
    "    print(\"Chod na Masaricku: {:d}:{:02d}\".format(mas.time().hour, mas.time().minute))\n",
    "else:\n",
    "    print(\"Chod na Bielu labut: {:d}:{:02d}\".format(bil.time().hour, bil.time().minute))"
   ]
  }
 ],
 "metadata": {
  "kernelspec": {
   "display_name": "Python 3",
   "language": "python",
   "name": "python3"
  },
  "language_info": {
   "codemirror_mode": {
    "name": "ipython",
    "version": 3
   },
   "file_extension": ".py",
   "mimetype": "text/x-python",
   "name": "python",
   "nbconvert_exporter": "python",
   "pygments_lexer": "ipython3",
   "version": "3.6.3"
  }
 },
 "nbformat": 4,
 "nbformat_minor": 2
}
